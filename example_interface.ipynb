{
 "cells": [
  {
   "cell_type": "code",
   "execution_count": 141,
   "metadata": {
    "metadata": {}
   },
   "outputs": [],
   "source": [
    "import socket\n",
    "import numpy as np"
   ]
  },
  {
   "cell_type": "markdown",
   "metadata": {},
   "source": [
    "Please verify the IP address of the Red Pitaya. It is highly recommended to set its IP to be static."
   ]
  },
  {
   "cell_type": "code",
   "execution_count": 142,
   "metadata": {
    "metadata": {}
   },
   "outputs": [],
   "source": [
    "clientsock = socket.socket(socket.AF_INET, socket.SOCK_STREAM)\n",
    "RedPitaya_IP = '192.168.1.2'\n",
    "server_address = (RedPitaya_IP, 6750) \n",
    "clientsock.connect(server_address)"
   ]
  },
  {
   "cell_type": "markdown",
   "metadata": {},
   "source": [
    "### List of commands\n",
    "\n",
    "A command should be sent by:\n",
    "```python\n",
    "clientsock.send(\"COMMAND VALUE\".encode())\n",
    "```\n",
    "The COMMANDs are listed below:\n",
    "\n",
    "```python\n",
    "            \"FC\": self.setFrequencyCarrier,  # Set Carrier Frequency in Hz. The value MUST be an INTEGER.\n",
    "            \"FT\": self.progFrequencyTable,  # Frequency Table programs the tableable carrier frequencies in Hz to step through. There could be multiple values separated by spaces. The values MUST be an INTEGER.\n",
    "            \"TT\": self.TransitionTable_mode,  # Transition to triggerable Table mode. No values should be appended.\n",
    "            \"TM\": self.TransitionManual_mode,  # Transition to Manual mode. No values should be appended.\n",
    "            \"FM\": self.setFrequencyMod,  # Set the modulation frequency in Hz. The value MUST be an INTEGER.\n",
    "            \"AM\": self.setAmpMod,  # Set the overall amplitude of the output signal. The value should be between 0 to 1.\n",
    "            \"PM\": self.setPhaseMod,  # The phase offset of the demodulation output. \n",
    "            \"MD\": self.setModDepth, # Set the modulation depth (beta_m).\n",
    "            \"SA\": self.setSineAmpMod, # Set the amplitude of the sine quadrature. The value should be between 0 to 1.\n",
    "            \"CA\": self.setCosineAmpMod, # Set the amplitude of the cosine quadrature. The value should be between 0 to 1.\n",
    "            \"SP\": self.setSinePhase, # Set the phase offset of the sine quadrature in radian.\n",
    "            \"ST\": self.retrigger, # restart/resync and retrigger the I and Q outputs. No values should be appended.\n",
    "            \"Q?\": self.query, # Query:returns the variable status. No values should be appended.\n",
    "```"
   ]
  },
  {
   "cell_type": "code",
   "execution_count": 152,
   "metadata": {
    "metadata": {}
   },
   "outputs": [
    {
     "name": "stdout",
     "output_type": "stream",
     "text": [
      "FC 750000000;FM 3125000;PM 18;;OK:1.0;\n"
     ]
    }
   ],
   "source": [
    "clientsock.send(\"Q?\".encode())\n",
    "print(clientsock.recv(2048).decode()) # Ask for current state"
   ]
  },
  {
   "cell_type": "code",
   "execution_count": 151,
   "metadata": {
    "metadata": {}
   },
   "outputs": [
    {
     "data": {
      "text/plain": [
       "4"
      ]
     },
     "execution_count": 151,
     "metadata": {},
     "output_type": "execute_result"
    }
   ],
   "source": [
    "clientsock.send(\"SA 1\".encode())"
   ]
  },
  {
   "cell_type": "code",
   "execution_count": 185,
   "metadata": {
    "metadata": {}
   },
   "outputs": [
    {
     "data": {
      "text/plain": [
       "8"
      ]
     },
     "execution_count": 185,
     "metadata": {},
     "output_type": "execute_result"
    }
   ],
   "source": [
    "clientsock.send(\"CA 0.972\".encode()) "
   ]
  },
  {
   "cell_type": "code",
   "execution_count": 187,
   "metadata": {
    "metadata": {}
   },
   "outputs": [
    {
     "data": {
      "text/plain": [
       "24"
      ]
     },
     "execution_count": 187,
     "metadata": {},
     "output_type": "execute_result"
    }
   ],
   "source": [
    "phi=float(0.1) # 0.1 degree\n",
    "phase_str = str(phi/180*np.pi)\n",
    "clientsock.send((\"SP \"+phase_str).encode())"
   ]
  },
  {
   "cell_type": "code",
   "execution_count": 175,
   "metadata": {
    "metadata": {}
   },
   "outputs": [
    {
     "data": {
      "text/plain": [
       "12"
      ]
     },
     "execution_count": 175,
     "metadata": {},
     "output_type": "execute_result"
    }
   ],
   "source": [
    "clientsock.send(\"FC 1500000000\".encode())"
   ]
  },
  {
   "cell_type": "code",
   "execution_count": 180,
   "metadata": {
    "metadata": {}
   },
   "outputs": [
    {
     "data": {
      "text/plain": [
       "7"
      ]
     },
     "execution_count": 180,
     "metadata": {},
     "output_type": "execute_result"
    }
   ],
   "source": [
    "clientsock.send(\"MD 1.01\".encode())"
   ]
  },
  {
   "cell_type": "code",
   "execution_count": 149,
   "metadata": {
    "metadata": {}
   },
   "outputs": [
    {
     "data": {
      "text/plain": [
       "10"
      ]
     },
     "execution_count": 149,
     "metadata": {},
     "output_type": "execute_result"
    }
   ],
   "source": [
    "clientsock.send(\"FM 3125000\".encode())"
   ]
  },
  {
   "cell_type": "code",
   "execution_count": 10,
   "metadata": {},
   "outputs": [
    {
     "data": {
      "text/plain": [
       "4"
      ]
     },
     "execution_count": 10,
     "metadata": {},
     "output_type": "execute_result"
    }
   ],
   "source": [
    "clientsock.send(\"AM 1\".encode())"
   ]
  },
  {
   "cell_type": "code",
   "execution_count": 686,
   "metadata": {},
   "outputs": [
    {
     "name": "stdout",
     "output_type": "stream",
     "text": [
      "'FT 750000000,751000000,752000000,753000000,754000000,755000000,756000000,757000000,758000000,759000000,760000000,761000000,762000000,763000000,764000000,765000000,766000000,767000000,768000000,769000000,770000000,771000000,772000000,773000000,774000000,775000000,776000000,777000000,778000000,779000000,780000000,781000000,782000000,783000000,784000000,785000000,786000000,787000000,788000000,789000000,790000000,791000000,792000000,793000000,794000000,795000000,796000000,797000000,798000000,799000000,800000000,801000000,802000000,803000000,804000000,805000000,806000000,807000000,808000000,809000000,810000000,811000000,812000000,813000000,814000000,815000000,816000000,817000000,818000000,819000000,820000000,821000000,822000000,823000000,824000000,825000000,826000000,827000000,828000000,829000000,830000000,831000000,832000000,833000000,834000000,835000000,836000000,837000000,838000000,839000000,840000000,841000000,842000000,843000000,844000000,845000000,846000000,847000000,848000000,849000000,850000000,851000000,852000000,853000000,854000000,855000000,856000000,857000000,858000000,859000000,860000000,861000000,862000000,863000000,864000000,865000000,866000000,867000000,868000000,869000000,870000000,871000000,872000000,873000000,874000000,875000000,876000000,877000000,878000000,879000000,880000000,881000000,882000000,883000000,884000000,885000000,886000000,887000000,888000000,889000000,890000000,891000000,892000000,893000000,894000000,895000000,896000000,897000000,898000000,899000000,900000000,899000000,898000000,897000000,896000000,895000000,894000000,893000000,892000000,891000000,890000000,889000000,888000000,887000000,886000000,885000000,884000000,883000000,882000000,881000000,880000000,879000000,878000000,877000000,876000000,875000000,874000000,873000000,872000000,871000000,870000000,869000000,868000000,867000000,866000000,865000000,864000000,863000000,862000000,861000000,860000000,859000000,858000000,857000000,856000000,855000000,854000000,853000000,852000000,851000000,850000000,849000000,848000000,847000000,846000000,845000000,844000000,843000000,842000000,841000000,840000000,839000000,838000000,837000000,836000000,835000000,834000000,833000000,832000000,831000000,830000000,829000000,828000000,827000000,826000000,825000000,824000000,823000000,822000000,821000000,820000000,819000000,818000000,817000000,816000000,815000000,814000000,813000000,812000000,811000000,810000000,809000000,808000000,807000000,806000000,805000000,804000000,803000000,802000000,801000000,800000000,799000000,798000000,797000000,796000000,795000000,794000000,793000000,792000000,791000000,790000000,789000000,788000000,787000000,786000000,785000000,784000000,783000000,782000000,781000000,780000000,779000000,778000000,777000000,776000000,775000000,774000000,773000000,772000000,771000000,770000000,769000000,768000000,767000000,766000000,765000000,764000000,763000000,762000000,761000000,760000000,759000000,758000000,757000000,756000000,755000000,754000000,753000000,752000000,751000000,750000000\\r'\n"
     ]
    }
   ],
   "source": [
    "from time import sleep # Ramping through a table of carrier frequencies with an external trigger.\n",
    "datastr = \"FT \"\n",
    "half_step = 150\n",
    "startfreq = 750000000\n",
    "freqStep = 1000000\n",
    "for i in range(half_step+1):\n",
    "    datastr += f\"{startfreq+freqStep*i},\"\n",
    "for j in range(0,1):\n",
    "    for i in range(0,half_step):\n",
    "        if i == half_step-1 and j == 0:\n",
    "            datastr += f\"{startfreq+freqStep*(half_step-1-i)}\\r\"\n",
    "        else:\n",
    "            datastr += f\"{startfreq+freqStep*(half_step-1-i)},\"\n",
    "clientsock.send(datastr.encode())\n",
    "sleep(0.01)\n",
    "clientsock.send(\"TT\\r\".encode())\n",
    "print(repr(datastr))"
   ]
  }
 ],
 "metadata": {
  "kernelspec": {
   "display_name": "Python 3.8.13 ('P38')",
   "language": "python",
   "name": "python3"
  },
  "language_info": {
   "codemirror_mode": {
    "name": "ipython",
    "version": 3
   },
   "file_extension": ".py",
   "mimetype": "text/x-python",
   "name": "python",
   "nbconvert_exporter": "python",
   "pygments_lexer": "ipython3",
   "version": "3.10.9"
  },
  "orig_nbformat": 4,
  "vscode": {
   "interpreter": {
    "hash": "bf6f972696361501d0bb6fe3e51f101725632b6790699b961dd61484d021e686"
   }
  }
 },
 "nbformat": 4,
 "nbformat_minor": 2
}
